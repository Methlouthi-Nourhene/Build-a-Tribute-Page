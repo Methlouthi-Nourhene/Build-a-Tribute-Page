{
  "nbformat": 4,
  "nbformat_minor": 5,
  "metadata": {
    "kernelspec": {
      "display_name": "Python 3",
      "language": "python",
      "name": "python3"
    },
    "language_info": {
      "codemirror_mode": {
        "name": "ipython",
        "version": 3
      },
      "file_extension": ".py",
      "mimetype": "text/x-python",
      "name": "python",
      "nbconvert_exporter": "python",
      "pygments_lexer": "ipython3",
      "version": "3.8.8"
    },
    "colab": {
      "name": "mini game.ipynb",
      "provenance": [],
      "include_colab_link": true
    }
  },
  "cells": [
    {
      "cell_type": "markdown",
      "metadata": {
        "id": "view-in-github",
        "colab_type": "text"
      },
      "source": [
        "<a href=\"https://colab.research.google.com/github/Methlouthi-Nourhene/Build-a-Tribute-Page/blob/main/mini_game.ipynb\" target=\"_parent\"><img src=\"https://colab.research.google.com/assets/colab-badge.svg\" alt=\"Open In Colab\"/></a>"
      ]
    },
    {
      "cell_type": "code",
      "metadata": {
        "colab": {
          "base_uri": "https://localhost:8080/"
        },
        "id": "01d701fb",
        "outputId": "7319e4c2-0511-405b-ab31-3a1ff1a94b61"
      },
      "source": [
        "import random\n",
        "n=random.randrange(1, 100)\n",
        "guesschek=\"wrong\"\n",
        "score=100\n",
        "while guesschek==\"wrong\" and score!=0:\n",
        "    reponse=int(input(\"Please input a number between 0 and 100=\"))\n",
        "    if reponse<n:\n",
        "        score-=10\n",
        "        print(\"This is lower than actual number. Please try again.\")\n",
        "        print(\"your score=\",score,\"pts\")\n",
        "    elif reponse>n:\n",
        "        score-=10\n",
        "        print(\"This is higher than actual number. Please try again\")\n",
        "        print(\"your score=\",score,\"pts\")\n",
        "    else :\n",
        "        print(\"this is correct number WIN\")\n",
        "        print(\"your score=\",score,\"pts\")\n",
        "        guesschek=\"correct\"\n",
        "print(\"Thank you for playing Number Guess. See you again\")\n",
        "    \n",
        "\n",
        "        \n",
        "    "
      ],
      "id": "01d701fb",
      "execution_count": null,
      "outputs": [
        {
          "output_type": "stream",
          "text": [
            "Please input a number between 0 and 100=50\n",
            "This is lower than actual number. Please try again.\n",
            "your score= 90 pts\n",
            "Please input a number between 0 and 100=60\n",
            "This is lower than actual number. Please try again.\n",
            "your score= 80 pts\n",
            "Please input a number between 0 and 100=90\n",
            "This is lower than actual number. Please try again.\n",
            "your score= 70 pts\n",
            "Please input a number between 0 and 100=95\n",
            "this is correct number WIN\n",
            "your score= 70 pts\n",
            "Thank you for playing Number Guess. See you again\n"
          ],
          "name": "stdout"
        }
      ]
    },
    {
      "cell_type": "code",
      "metadata": {
        "id": "530f2c82"
      },
      "source": [
        ""
      ],
      "id": "530f2c82",
      "execution_count": null,
      "outputs": []
    }
  ]
}