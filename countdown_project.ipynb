{
  "nbformat": 4,
  "nbformat_minor": 0,
  "metadata": {
    "colab": {
      "name": "countdown_project",
      "provenance": [],
      "authorship_tag": "ABX9TyODBJ74hMTYKa1zdMY4wFg+",
      "include_colab_link": true
    },
    "kernelspec": {
      "name": "python3",
      "display_name": "Python 3"
    },
    "language_info": {
      "name": "python"
    }
  },
  "cells": [
    {
      "cell_type": "markdown",
      "metadata": {
        "id": "view-in-github",
        "colab_type": "text"
      },
      "source": [
        "<a href=\"https://colab.research.google.com/github/Methlouthi-Nourhene/Build-a-Tribute-Page/blob/main/countdown_project.ipynb\" target=\"_parent\"><img src=\"https://colab.research.google.com/assets/colab-badge.svg\" alt=\"Open In Colab\"/></a>"
      ]
    },
    {
      "cell_type": "code",
      "metadata": {
        "colab": {
          "base_uri": "https://localhost:8080/"
        },
        "id": "b0kk_0MgoQeW",
        "outputId": "f7a0befe-2ebe-4a18-a625-85a792ddee0c"
      },
      "source": [
        "import time\n",
        "def countdown(t):\n",
        "    while t:\n",
        "        mins, secs = divmod(t, 60)\n",
        "        timer = '{:02d}:{:02d}'.format(mins, secs)\n",
        "        print(timer,end='/')\n",
        "        \n",
        "        time.sleep(1)\n",
        "        t -= 1\n",
        "    print('Blast Off!!!')\n",
        "t = input(\"Enter the time in seconds: \") \n",
        "countdown(int(t))"
      ],
      "execution_count": 3,
      "outputs": [
        {
          "output_type": "stream",
          "text": [
            "Enter the time in seconds: 6\n",
            "00:06/00:05/00:04/00:03/00:02/00:01/Blast Off!!!\n"
          ],
          "name": "stdout"
        }
      ]
    },
    {
      "cell_type": "code",
      "metadata": {
        "id": "g1hPkGfhoT8_"
      },
      "source": [
        ""
      ],
      "execution_count": null,
      "outputs": []
    }
  ]
}